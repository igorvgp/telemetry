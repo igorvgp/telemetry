{
 "cells": [
  {
   "cell_type": "code",
   "execution_count": 1,
   "id": "5c19a980",
   "metadata": {
    "ExecuteTime": {
     "end_time": "2023-03-29T14:46:05.131601Z",
     "start_time": "2023-03-29T14:45:52.601751Z"
    }
   },
   "outputs": [],
   "source": [
    "import pandas as pd\n",
    "import numpy as np\n",
    "from sklearn.preprocessing import RobustScaler\n",
    "from sklearn.cluster import KMeans\n",
    "from sklearn.metrics import silhouette_score\n",
    "import pickle"
   ]
  },
  {
   "cell_type": "markdown",
   "id": "ea9bd018",
   "metadata": {},
   "source": [
    "# Import data"
   ]
  },
  {
   "cell_type": "code",
   "execution_count": 21,
   "id": "7c5b467d",
   "metadata": {
    "ExecuteTime": {
     "end_time": "2023-03-29T15:00:39.330318Z",
     "start_time": "2023-03-29T15:00:35.883794Z"
    }
   },
   "outputs": [],
   "source": [
    "full_data = pd.read_parquet('../data/full_data.parquet.gzip') "
   ]
  },
  {
   "cell_type": "markdown",
   "id": "bcffe452",
   "metadata": {},
   "source": [
    "# Data Cleaning "
   ]
  },
  {
   "cell_type": "code",
   "execution_count": 3,
   "id": "663ca89f",
   "metadata": {
    "ExecuteTime": {
     "end_time": "2023-03-29T14:48:12.691536Z",
     "start_time": "2023-03-29T14:48:11.764000Z"
    }
   },
   "outputs": [],
   "source": [
    "# #### Drop columns\n",
    "# # Nan's columns\n",
    "# data = data.drop(['CAN Vehicle Speed (km/h)' ,'Unnamed: 0', 'Engine RPM (rpm)', 'Fuel Rate CAN (l/h)', 'Program Number', 'Tachograph Total Vehicle Distance (m)', 'Fuel Consumed (counted) (l)','Green Driving Type','Green Driving Value',\n",
    "# 'Tachograph Vehicle Speed (km/h)', 'Placa','Engine Worktime (counted) (h)', 'High Resolution Engine Total Fuel Used  (l)', 'Nominal Friction - Percent Torque - Manual CAN (%)','Clutch Switch','Engine Total Fuel Used (l)'], axis = 1)\n",
    "\n",
    "# # High correlation columns\n",
    "# data = data.drop(['Engine Current Load (%)','IMSI','moda_movel','Actual Engine - Percent Torque - Manual CAN (%)', 'Wheel Based Speed (km/h)',\n",
    "# 'Speed (km/h)'], axis = 1)"
   ]
  },
  {
   "cell_type": "markdown",
   "id": "6a8c5474",
   "metadata": {},
   "source": [
    "# Fill Nan's"
   ]
  },
  {
   "cell_type": "code",
   "execution_count": 4,
   "id": "15198ecd",
   "metadata": {
    "ExecuteTime": {
     "end_time": "2023-03-29T14:48:15.783954Z",
     "start_time": "2023-03-29T14:48:14.793713Z"
    }
   },
   "outputs": [],
   "source": [
    "# data['Engine Total Hours Of Operation (h)'] = data['Engine Total Hours Of Operation (h)'].fillna(data['Engine Total Hours Of Operation (h)'].mean())\n",
    "# data = data.fillna(method = 'ffill')"
   ]
  },
  {
   "cell_type": "markdown",
   "id": "9c214c5c",
   "metadata": {},
   "source": [
    "# Data Filtering"
   ]
  },
  {
   "cell_type": "code",
   "execution_count": 5,
   "id": "43382f58",
   "metadata": {
    "ExecuteTime": {
     "end_time": "2023-03-29T14:48:17.214187Z",
     "start_time": "2023-03-29T14:48:16.970093Z"
    }
   },
   "outputs": [],
   "source": [
    "# data = data.drop(['Data','Hora'], axis = 1)"
   ]
  },
  {
   "cell_type": "markdown",
   "id": "f715c347",
   "metadata": {},
   "source": [
    "# Data Preparation"
   ]
  },
  {
   "cell_type": "code",
   "execution_count": 6,
   "id": "730fb5c0",
   "metadata": {
    "ExecuteTime": {
     "end_time": "2023-03-29T14:48:20.986145Z",
     "start_time": "2023-03-29T14:48:18.641455Z"
    }
   },
   "outputs": [],
   "source": [
    "# # One hot encoding\n",
    "# rs = RobustScaler()\n",
    "# encoded_data = rs.fit_transform(data[['Acceleration Pedal Position (%)', 'Active GSM Operator',\n",
    "#                                        'Altitude (m)', 'Axis X (mG)', 'Axis Y (mG)', 'Axis Z (mG)',\n",
    "#                                        'Battery Current (A)', 'Battery Voltage (mV)', 'Latitude', 'Longitude',\n",
    "#                                        'Engine Coolant Temperature (°C)', 'Engine Speed (rpm)',\n",
    "#                                        'Engine Total Hours Of Operation (h)', 'External Voltage (V)',\n",
    "#                                        'Fuel Rate (l/h)', 'Instantaneous Fuel Economy (km/l)', 'Odometer (m)',\n",
    "#                                        'Total Odometer (m)', 'Transmission Current Gear',\n",
    "#                                        'Vehicle Speed - Tachograph (km/h)', 'diff', 'subida_descida']])\n",
    "\n",
    "# encoded_data = pd.DataFrame(encoded_data)\n",
    "# encoded_data.columns = ['Acceleration Pedal Position (%)', 'Active GSM Operator',\n",
    "#                                        'Altitude (m)', 'Axis X (mG)', 'Axis Y (mG)', 'Axis Z (mG)',\n",
    "#                                        'Battery Current (A)', 'Battery Voltage (mV)', 'Latitude', 'Longitude',\n",
    "#                                        'Engine Coolant Temperature (°C)', 'Engine Speed (rpm)',\n",
    "#                                        'Engine Total Hours Of Operation (h)', 'External Voltage (V)',\n",
    "#                                        'Fuel Rate (l/h)', 'Instantaneous Fuel Economy (km/l)', 'Odometer (m)',\n",
    "#                                        'Total Odometer (m)', 'Transmission Current Gear',\n",
    "#                                        'Vehicle Speed - Tachograph (km/h)', 'diff', 'subida_descida']"
   ]
  },
  {
   "cell_type": "code",
   "execution_count": 7,
   "id": "49846c7f",
   "metadata": {
    "ExecuteTime": {
     "end_time": "2023-03-29T14:48:23.310492Z",
     "start_time": "2023-03-29T14:48:23.120911Z"
    }
   },
   "outputs": [],
   "source": [
    "# full_data = pd.concat([encoded_data, data[['Brake Switch','GSM Area Code','Ignition','Movement']]], axis = 1)"
   ]
  },
  {
   "cell_type": "markdown",
   "id": "8435d3d6",
   "metadata": {},
   "source": [
    "# Machine Learning Modelling"
   ]
  },
  {
   "cell_type": "markdown",
   "id": "97c20c40",
   "metadata": {},
   "source": [
    "## K-Means"
   ]
  },
  {
   "cell_type": "code",
   "execution_count": 31,
   "id": "c54221db",
   "metadata": {
    "ExecuteTime": {
     "end_time": "2023-03-29T10:57:06.847931Z",
     "start_time": "2023-03-29T10:57:06.841024Z"
    }
   },
   "outputs": [],
   "source": [
    "# ks = np.arange(2,31,1)"
   ]
  },
  {
   "cell_type": "code",
   "execution_count": 32,
   "id": "2df789b2",
   "metadata": {
    "ExecuteTime": {
     "end_time": "2023-03-29T14:16:30.482435Z",
     "start_time": "2023-03-29T10:57:21.664030Z"
    }
   },
   "outputs": [
    {
     "ename": "KeyboardInterrupt",
     "evalue": "",
     "output_type": "error",
     "traceback": [
      "\u001b[0;31m---------------------------------------------------------------------------\u001b[0m",
      "\u001b[0;31mKeyboardInterrupt\u001b[0m                         Traceback (most recent call last)",
      "Cell \u001b[0;32mIn[32], line 10\u001b[0m\n\u001b[1;32m      7\u001b[0m kmeans_labels \u001b[38;5;241m=\u001b[39m kmeans_model\u001b[38;5;241m.\u001b[39mpredict(full_data)\n\u001b[1;32m      9\u001b[0m \u001b[38;5;66;03m# Model evaluation\u001b[39;00m\n\u001b[0;32m---> 10\u001b[0m k_means_scores\u001b[38;5;241m.\u001b[39mappend(\u001b[43msilhouette_score\u001b[49m\u001b[43m(\u001b[49m\u001b[43mfull_data\u001b[49m\u001b[43m,\u001b[49m\u001b[43m \u001b[49m\u001b[43mkmeans_labels\u001b[49m\u001b[43m)\u001b[49m)\n",
      "File \u001b[0;32m~/.pyenv/versions/3.9.13/envs/driveon/lib/python3.9/site-packages/sklearn/metrics/cluster/_unsupervised.py:117\u001b[0m, in \u001b[0;36msilhouette_score\u001b[0;34m(X, labels, metric, sample_size, random_state, **kwds)\u001b[0m\n\u001b[1;32m    115\u001b[0m     \u001b[38;5;28;01melse\u001b[39;00m:\n\u001b[1;32m    116\u001b[0m         X, labels \u001b[38;5;241m=\u001b[39m X[indices], labels[indices]\n\u001b[0;32m--> 117\u001b[0m \u001b[38;5;28;01mreturn\u001b[39;00m np\u001b[38;5;241m.\u001b[39mmean(\u001b[43msilhouette_samples\u001b[49m\u001b[43m(\u001b[49m\u001b[43mX\u001b[49m\u001b[43m,\u001b[49m\u001b[43m \u001b[49m\u001b[43mlabels\u001b[49m\u001b[43m,\u001b[49m\u001b[43m \u001b[49m\u001b[43mmetric\u001b[49m\u001b[38;5;241;43m=\u001b[39;49m\u001b[43mmetric\u001b[49m\u001b[43m,\u001b[49m\u001b[43m \u001b[49m\u001b[38;5;241;43m*\u001b[39;49m\u001b[38;5;241;43m*\u001b[39;49m\u001b[43mkwds\u001b[49m\u001b[43m)\u001b[49m)\n",
      "File \u001b[0;32m~/.pyenv/versions/3.9.13/envs/driveon/lib/python3.9/site-packages/sklearn/metrics/cluster/_unsupervised.py:237\u001b[0m, in \u001b[0;36msilhouette_samples\u001b[0;34m(X, labels, metric, **kwds)\u001b[0m\n\u001b[1;32m    233\u001b[0m kwds[\u001b[38;5;124m\"\u001b[39m\u001b[38;5;124mmetric\u001b[39m\u001b[38;5;124m\"\u001b[39m] \u001b[38;5;241m=\u001b[39m metric\n\u001b[1;32m    234\u001b[0m reduce_func \u001b[38;5;241m=\u001b[39m functools\u001b[38;5;241m.\u001b[39mpartial(\n\u001b[1;32m    235\u001b[0m     _silhouette_reduce, labels\u001b[38;5;241m=\u001b[39mlabels, label_freqs\u001b[38;5;241m=\u001b[39mlabel_freqs\n\u001b[1;32m    236\u001b[0m )\n\u001b[0;32m--> 237\u001b[0m results \u001b[38;5;241m=\u001b[39m \u001b[38;5;28;43mzip\u001b[39;49m\u001b[43m(\u001b[49m\u001b[38;5;241;43m*\u001b[39;49m\u001b[43mpairwise_distances_chunked\u001b[49m\u001b[43m(\u001b[49m\u001b[43mX\u001b[49m\u001b[43m,\u001b[49m\u001b[43m \u001b[49m\u001b[43mreduce_func\u001b[49m\u001b[38;5;241;43m=\u001b[39;49m\u001b[43mreduce_func\u001b[49m\u001b[43m,\u001b[49m\u001b[43m \u001b[49m\u001b[38;5;241;43m*\u001b[39;49m\u001b[38;5;241;43m*\u001b[39;49m\u001b[43mkwds\u001b[49m\u001b[43m)\u001b[49m\u001b[43m)\u001b[49m\n\u001b[1;32m    238\u001b[0m intra_clust_dists, inter_clust_dists \u001b[38;5;241m=\u001b[39m results\n\u001b[1;32m    239\u001b[0m intra_clust_dists \u001b[38;5;241m=\u001b[39m np\u001b[38;5;241m.\u001b[39mconcatenate(intra_clust_dists)\n",
      "File \u001b[0;32m~/.pyenv/versions/3.9.13/envs/driveon/lib/python3.9/site-packages/sklearn/metrics/pairwise.py:1876\u001b[0m, in \u001b[0;36mpairwise_distances_chunked\u001b[0;34m(X, Y, reduce_func, metric, n_jobs, working_memory, **kwds)\u001b[0m\n\u001b[1;32m   1874\u001b[0m \u001b[38;5;28;01mif\u001b[39;00m reduce_func \u001b[38;5;129;01mis\u001b[39;00m \u001b[38;5;129;01mnot\u001b[39;00m \u001b[38;5;28;01mNone\u001b[39;00m:\n\u001b[1;32m   1875\u001b[0m     chunk_size \u001b[38;5;241m=\u001b[39m D_chunk\u001b[38;5;241m.\u001b[39mshape[\u001b[38;5;241m0\u001b[39m]\n\u001b[0;32m-> 1876\u001b[0m     D_chunk \u001b[38;5;241m=\u001b[39m \u001b[43mreduce_func\u001b[49m\u001b[43m(\u001b[49m\u001b[43mD_chunk\u001b[49m\u001b[43m,\u001b[49m\u001b[43m \u001b[49m\u001b[43msl\u001b[49m\u001b[38;5;241;43m.\u001b[39;49m\u001b[43mstart\u001b[49m\u001b[43m)\u001b[49m\n\u001b[1;32m   1877\u001b[0m     _check_chunk_size(D_chunk, chunk_size)\n\u001b[1;32m   1878\u001b[0m \u001b[38;5;28;01myield\u001b[39;00m D_chunk\n",
      "File \u001b[0;32m~/.pyenv/versions/3.9.13/envs/driveon/lib/python3.9/site-packages/sklearn/metrics/cluster/_unsupervised.py:137\u001b[0m, in \u001b[0;36m_silhouette_reduce\u001b[0;34m(D_chunk, start, labels, label_freqs)\u001b[0m\n\u001b[1;32m    135\u001b[0m clust_dists \u001b[38;5;241m=\u001b[39m np\u001b[38;5;241m.\u001b[39mzeros((\u001b[38;5;28mlen\u001b[39m(D_chunk), \u001b[38;5;28mlen\u001b[39m(label_freqs)), dtype\u001b[38;5;241m=\u001b[39mD_chunk\u001b[38;5;241m.\u001b[39mdtype)\n\u001b[1;32m    136\u001b[0m \u001b[38;5;28;01mfor\u001b[39;00m i \u001b[38;5;129;01min\u001b[39;00m \u001b[38;5;28mrange\u001b[39m(\u001b[38;5;28mlen\u001b[39m(D_chunk)):\n\u001b[0;32m--> 137\u001b[0m     clust_dists[i] \u001b[38;5;241m+\u001b[39m\u001b[38;5;241m=\u001b[39m \u001b[43mnp\u001b[49m\u001b[38;5;241;43m.\u001b[39;49m\u001b[43mbincount\u001b[49m\u001b[43m(\u001b[49m\n\u001b[1;32m    138\u001b[0m \u001b[43m        \u001b[49m\u001b[43mlabels\u001b[49m\u001b[43m,\u001b[49m\u001b[43m \u001b[49m\u001b[43mweights\u001b[49m\u001b[38;5;241;43m=\u001b[39;49m\u001b[43mD_chunk\u001b[49m\u001b[43m[\u001b[49m\u001b[43mi\u001b[49m\u001b[43m]\u001b[49m\u001b[43m,\u001b[49m\u001b[43m \u001b[49m\u001b[43mminlength\u001b[49m\u001b[38;5;241;43m=\u001b[39;49m\u001b[38;5;28;43mlen\u001b[39;49m\u001b[43m(\u001b[49m\u001b[43mlabel_freqs\u001b[49m\u001b[43m)\u001b[49m\n\u001b[1;32m    139\u001b[0m \u001b[43m    \u001b[49m\u001b[43m)\u001b[49m\n\u001b[1;32m    141\u001b[0m \u001b[38;5;66;03m# intra_index selects intra-cluster distances within clust_dists\u001b[39;00m\n\u001b[1;32m    142\u001b[0m intra_index \u001b[38;5;241m=\u001b[39m (np\u001b[38;5;241m.\u001b[39marange(\u001b[38;5;28mlen\u001b[39m(D_chunk)), labels[start : start \u001b[38;5;241m+\u001b[39m \u001b[38;5;28mlen\u001b[39m(D_chunk)])\n",
      "File \u001b[0;32m<__array_function__ internals>:200\u001b[0m, in \u001b[0;36mbincount\u001b[0;34m(*args, **kwargs)\u001b[0m\n",
      "\u001b[0;31mKeyboardInterrupt\u001b[0m: "
     ]
    }
   ],
   "source": [
    "# k_means_scores = []\n",
    "# for k in ks:\n",
    "#     # Define and fit model\n",
    "#     kmeans_model = KMeans(n_clusters = k, n_init=\"auto\").fit(full_data)\n",
    "    \n",
    "#     # Predict\n",
    "#     kmeans_labels = kmeans_model.predict(full_data)\n",
    "    \n",
    "#     # Model evaluation\n",
    "#     k_means_scores.append(silhouette_score(full_data, kmeans_labels))"
   ]
  },
  {
   "cell_type": "code",
   "execution_count": null,
   "id": "33ffa076",
   "metadata": {},
   "outputs": [],
   "source": [
    "# print(k_means_scores)"
   ]
  },
  {
   "cell_type": "code",
   "execution_count": null,
   "id": "a88ca2cd",
   "metadata": {},
   "outputs": [],
   "source": [
    "# pickle.dump(k_means_scores, open('../data/k_means_scores.pkl','wb'))"
   ]
  },
  {
   "cell_type": "code",
   "execution_count": null,
   "id": "8dc95285",
   "metadata": {
    "ExecuteTime": {
     "start_time": "2023-03-29T17:04:28.634Z"
    }
   },
   "outputs": [],
   "source": [
    "# Define and fit model\n",
    "kmeans_model = KMeans(n_clusters = 7, n_init=\"auto\").fit(full_data)\n",
    "kmeans_labels = kmeans_model.predict(full_data)\n",
    "pickle.dump(kmeans_labels, open('../data/k_means_scores.pkl','wb'))"
   ]
  },
  {
   "cell_type": "code",
   "execution_count": null,
   "id": "ff604c5a",
   "metadata": {},
   "outputs": [],
   "source": []
  },
  {
   "cell_type": "code",
   "execution_count": null,
   "id": "d810e331",
   "metadata": {},
   "outputs": [],
   "source": []
  },
  {
   "cell_type": "code",
   "execution_count": null,
   "id": "752e5a30",
   "metadata": {},
   "outputs": [],
   "source": []
  },
  {
   "cell_type": "code",
   "execution_count": null,
   "id": "6e1517e5",
   "metadata": {},
   "outputs": [],
   "source": []
  },
  {
   "cell_type": "code",
   "execution_count": null,
   "id": "e968094e",
   "metadata": {},
   "outputs": [],
   "source": []
  },
  {
   "cell_type": "code",
   "execution_count": null,
   "id": "925d976f",
   "metadata": {},
   "outputs": [],
   "source": []
  },
  {
   "cell_type": "code",
   "execution_count": null,
   "id": "fb0cddc4",
   "metadata": {},
   "outputs": [],
   "source": []
  },
  {
   "cell_type": "code",
   "execution_count": null,
   "id": "f2baa314",
   "metadata": {},
   "outputs": [],
   "source": []
  },
  {
   "cell_type": "code",
   "execution_count": null,
   "id": "43cc2ea1",
   "metadata": {},
   "outputs": [],
   "source": []
  },
  {
   "cell_type": "code",
   "execution_count": null,
   "id": "3120fdf2",
   "metadata": {},
   "outputs": [],
   "source": []
  }
 ],
 "metadata": {
  "kernelspec": {
   "display_name": "Python 3 (ipykernel)",
   "language": "python",
   "name": "python3"
  },
  "language_info": {
   "codemirror_mode": {
    "name": "ipython",
    "version": 3
   },
   "file_extension": ".py",
   "mimetype": "text/x-python",
   "name": "python",
   "nbconvert_exporter": "python",
   "pygments_lexer": "ipython3",
   "version": "3.9.13"
  },
  "varInspector": {
   "cols": {
    "lenName": 16,
    "lenType": 16,
    "lenVar": 40
   },
   "kernels_config": {
    "python": {
     "delete_cmd_postfix": "",
     "delete_cmd_prefix": "del ",
     "library": "var_list.py",
     "varRefreshCmd": "print(var_dic_list())"
    },
    "r": {
     "delete_cmd_postfix": ") ",
     "delete_cmd_prefix": "rm(",
     "library": "var_list.r",
     "varRefreshCmd": "cat(var_dic_list()) "
    }
   },
   "types_to_exclude": [
    "module",
    "function",
    "builtin_function_or_method",
    "instance",
    "_Feature"
   ],
   "window_display": false
  }
 },
 "nbformat": 4,
 "nbformat_minor": 5
}
