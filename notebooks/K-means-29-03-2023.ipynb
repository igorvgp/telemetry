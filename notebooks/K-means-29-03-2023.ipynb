{
 "cells": [
  {
   "cell_type": "code",
   "execution_count": 1,
   "id": "5c19a980",
   "metadata": {
    "ExecuteTime": {
     "end_time": "2023-03-29T14:46:05.131601Z",
     "start_time": "2023-03-29T14:45:52.601751Z"
    },
    "execution": {
     "iopub.execute_input": "2023-03-29T17:17:31.057898Z",
     "iopub.status.busy": "2023-03-29T17:17:31.057490Z",
     "iopub.status.idle": "2023-03-29T17:17:32.125421Z",
     "shell.execute_reply": "2023-03-29T17:17:32.124603Z"
    },
    "papermill": {
     "duration": 1.079346,
     "end_time": "2023-03-29T17:17:32.127952",
     "exception": false,
     "start_time": "2023-03-29T17:17:31.048606",
     "status": "completed"
    },
    "tags": []
   },
   "outputs": [],
   "source": [
    "import pandas as pd\n",
    "import numpy as np\n",
    "from sklearn.preprocessing import RobustScaler\n",
    "from sklearn.cluster import KMeans\n",
    "from sklearn.metrics import silhouette_score\n",
    "import pickle"
   ]
  },
  {
   "cell_type": "markdown",
   "id": "ea9bd018",
   "metadata": {
    "papermill": {
     "duration": 0.005355,
     "end_time": "2023-03-29T17:17:32.139386",
     "exception": false,
     "start_time": "2023-03-29T17:17:32.134031",
     "status": "completed"
    },
    "tags": []
   },
   "source": [
    "# Import data"
   ]
  },
  {
   "cell_type": "code",
   "execution_count": 2,
   "id": "7c5b467d",
   "metadata": {
    "ExecuteTime": {
     "end_time": "2023-03-29T15:00:39.330318Z",
     "start_time": "2023-03-29T15:00:35.883794Z"
    },
    "execution": {
     "iopub.execute_input": "2023-03-29T17:17:32.152270Z",
     "iopub.status.busy": "2023-03-29T17:17:32.151585Z",
     "iopub.status.idle": "2023-03-29T17:17:32.636563Z",
     "shell.execute_reply": "2023-03-29T17:17:32.635632Z"
    },
    "papermill": {
     "duration": 0.494583,
     "end_time": "2023-03-29T17:17:32.639187",
     "exception": false,
     "start_time": "2023-03-29T17:17:32.144604",
     "status": "completed"
    },
    "tags": []
   },
   "outputs": [],
   "source": [
    "full_data = pd.read_parquet('../data/full_data.parquet.gzip') "
   ]
  },
  {
   "cell_type": "markdown",
   "id": "bcffe452",
   "metadata": {
    "papermill": {
     "duration": 0.005433,
     "end_time": "2023-03-29T17:17:32.650587",
     "exception": false,
     "start_time": "2023-03-29T17:17:32.645154",
     "status": "completed"
    },
    "tags": []
   },
   "source": [
    "# Data Cleaning "
   ]
  },
  {
   "cell_type": "code",
   "execution_count": 3,
   "id": "663ca89f",
   "metadata": {
    "ExecuteTime": {
     "end_time": "2023-03-29T14:48:12.691536Z",
     "start_time": "2023-03-29T14:48:11.764000Z"
    },
    "execution": {
     "iopub.execute_input": "2023-03-29T17:17:32.663358Z",
     "iopub.status.busy": "2023-03-29T17:17:32.662986Z",
     "iopub.status.idle": "2023-03-29T17:17:32.667369Z",
     "shell.execute_reply": "2023-03-29T17:17:32.666442Z"
    },
    "papermill": {
     "duration": 0.013214,
     "end_time": "2023-03-29T17:17:32.669277",
     "exception": false,
     "start_time": "2023-03-29T17:17:32.656063",
     "status": "completed"
    },
    "tags": []
   },
   "outputs": [],
   "source": [
    "# #### Drop columns\n",
    "# # Nan's columns\n",
    "# data = data.drop(['CAN Vehicle Speed (km/h)' ,'Unnamed: 0', 'Engine RPM (rpm)', 'Fuel Rate CAN (l/h)', 'Program Number', 'Tachograph Total Vehicle Distance (m)', 'Fuel Consumed (counted) (l)','Green Driving Type','Green Driving Value',\n",
    "# 'Tachograph Vehicle Speed (km/h)', 'Placa','Engine Worktime (counted) (h)', 'High Resolution Engine Total Fuel Used  (l)', 'Nominal Friction - Percent Torque - Manual CAN (%)','Clutch Switch','Engine Total Fuel Used (l)'], axis = 1)\n",
    "\n",
    "# # High correlation columns\n",
    "# data = data.drop(['Engine Current Load (%)','IMSI','moda_movel','Actual Engine - Percent Torque - Manual CAN (%)', 'Wheel Based Speed (km/h)',\n",
    "# 'Speed (km/h)'], axis = 1)"
   ]
  },
  {
   "cell_type": "markdown",
   "id": "6a8c5474",
   "metadata": {
    "papermill": {
     "duration": 0.005526,
     "end_time": "2023-03-29T17:17:32.680305",
     "exception": false,
     "start_time": "2023-03-29T17:17:32.674779",
     "status": "completed"
    },
    "tags": []
   },
   "source": [
    "# Fill Nan's"
   ]
  },
  {
   "cell_type": "code",
   "execution_count": 4,
   "id": "15198ecd",
   "metadata": {
    "ExecuteTime": {
     "end_time": "2023-03-29T14:48:15.783954Z",
     "start_time": "2023-03-29T14:48:14.793713Z"
    },
    "execution": {
     "iopub.execute_input": "2023-03-29T17:17:32.693519Z",
     "iopub.status.busy": "2023-03-29T17:17:32.692794Z",
     "iopub.status.idle": "2023-03-29T17:17:32.696706Z",
     "shell.execute_reply": "2023-03-29T17:17:32.695958Z"
    },
    "papermill": {
     "duration": 0.013013,
     "end_time": "2023-03-29T17:17:32.698682",
     "exception": false,
     "start_time": "2023-03-29T17:17:32.685669",
     "status": "completed"
    },
    "tags": []
   },
   "outputs": [],
   "source": [
    "# data['Engine Total Hours Of Operation (h)'] = data['Engine Total Hours Of Operation (h)'].fillna(data['Engine Total Hours Of Operation (h)'].mean())\n",
    "# data = data.fillna(method = 'ffill')"
   ]
  },
  {
   "cell_type": "markdown",
   "id": "9c214c5c",
   "metadata": {
    "papermill": {
     "duration": 0.005453,
     "end_time": "2023-03-29T17:17:32.709662",
     "exception": false,
     "start_time": "2023-03-29T17:17:32.704209",
     "status": "completed"
    },
    "tags": []
   },
   "source": [
    "# Data Filtering"
   ]
  },
  {
   "cell_type": "code",
   "execution_count": 5,
   "id": "43382f58",
   "metadata": {
    "ExecuteTime": {
     "end_time": "2023-03-29T14:48:17.214187Z",
     "start_time": "2023-03-29T14:48:16.970093Z"
    },
    "execution": {
     "iopub.execute_input": "2023-03-29T17:17:32.722833Z",
     "iopub.status.busy": "2023-03-29T17:17:32.722057Z",
     "iopub.status.idle": "2023-03-29T17:17:32.727019Z",
     "shell.execute_reply": "2023-03-29T17:17:32.725733Z"
    },
    "papermill": {
     "duration": 0.01417,
     "end_time": "2023-03-29T17:17:32.729186",
     "exception": false,
     "start_time": "2023-03-29T17:17:32.715016",
     "status": "completed"
    },
    "tags": []
   },
   "outputs": [],
   "source": [
    "# data = data.drop(['Data','Hora'], axis = 1)"
   ]
  },
  {
   "cell_type": "markdown",
   "id": "f715c347",
   "metadata": {
    "papermill": {
     "duration": 0.00542,
     "end_time": "2023-03-29T17:17:32.740122",
     "exception": false,
     "start_time": "2023-03-29T17:17:32.734702",
     "status": "completed"
    },
    "tags": []
   },
   "source": [
    "# Data Preparation"
   ]
  },
  {
   "cell_type": "code",
   "execution_count": 6,
   "id": "730fb5c0",
   "metadata": {
    "ExecuteTime": {
     "end_time": "2023-03-29T14:48:20.986145Z",
     "start_time": "2023-03-29T14:48:18.641455Z"
    },
    "execution": {
     "iopub.execute_input": "2023-03-29T17:17:32.754159Z",
     "iopub.status.busy": "2023-03-29T17:17:32.753707Z",
     "iopub.status.idle": "2023-03-29T17:17:32.759943Z",
     "shell.execute_reply": "2023-03-29T17:17:32.758705Z"
    },
    "papermill": {
     "duration": 0.016367,
     "end_time": "2023-03-29T17:17:32.762150",
     "exception": false,
     "start_time": "2023-03-29T17:17:32.745783",
     "status": "completed"
    },
    "tags": []
   },
   "outputs": [],
   "source": [
    "# # One hot encoding\n",
    "# rs = RobustScaler()\n",
    "# encoded_data = rs.fit_transform(data[['Acceleration Pedal Position (%)', 'Active GSM Operator',\n",
    "#                                        'Altitude (m)', 'Axis X (mG)', 'Axis Y (mG)', 'Axis Z (mG)',\n",
    "#                                        'Battery Current (A)', 'Battery Voltage (mV)', 'Latitude', 'Longitude',\n",
    "#                                        'Engine Coolant Temperature (°C)', 'Engine Speed (rpm)',\n",
    "#                                        'Engine Total Hours Of Operation (h)', 'External Voltage (V)',\n",
    "#                                        'Fuel Rate (l/h)', 'Instantaneous Fuel Economy (km/l)', 'Odometer (m)',\n",
    "#                                        'Total Odometer (m)', 'Transmission Current Gear',\n",
    "#                                        'Vehicle Speed - Tachograph (km/h)', 'diff', 'subida_descida']])\n",
    "\n",
    "# encoded_data = pd.DataFrame(encoded_data)\n",
    "# encoded_data.columns = ['Acceleration Pedal Position (%)', 'Active GSM Operator',\n",
    "#                                        'Altitude (m)', 'Axis X (mG)', 'Axis Y (mG)', 'Axis Z (mG)',\n",
    "#                                        'Battery Current (A)', 'Battery Voltage (mV)', 'Latitude', 'Longitude',\n",
    "#                                        'Engine Coolant Temperature (°C)', 'Engine Speed (rpm)',\n",
    "#                                        'Engine Total Hours Of Operation (h)', 'External Voltage (V)',\n",
    "#                                        'Fuel Rate (l/h)', 'Instantaneous Fuel Economy (km/l)', 'Odometer (m)',\n",
    "#                                        'Total Odometer (m)', 'Transmission Current Gear',\n",
    "#                                        'Vehicle Speed - Tachograph (km/h)', 'diff', 'subida_descida']"
   ]
  },
  {
   "cell_type": "code",
   "execution_count": 7,
   "id": "49846c7f",
   "metadata": {
    "ExecuteTime": {
     "end_time": "2023-03-29T14:48:23.310492Z",
     "start_time": "2023-03-29T14:48:23.120911Z"
    },
    "execution": {
     "iopub.execute_input": "2023-03-29T17:17:32.775356Z",
     "iopub.status.busy": "2023-03-29T17:17:32.774933Z",
     "iopub.status.idle": "2023-03-29T17:17:32.780058Z",
     "shell.execute_reply": "2023-03-29T17:17:32.778770Z"
    },
    "papermill": {
     "duration": 0.01462,
     "end_time": "2023-03-29T17:17:32.782326",
     "exception": false,
     "start_time": "2023-03-29T17:17:32.767706",
     "status": "completed"
    },
    "tags": []
   },
   "outputs": [],
   "source": [
    "# full_data = pd.concat([encoded_data, data[['Brake Switch','GSM Area Code','Ignition','Movement']]], axis = 1)"
   ]
  },
  {
   "cell_type": "markdown",
   "id": "8435d3d6",
   "metadata": {
    "papermill": {
     "duration": 0.00574,
     "end_time": "2023-03-29T17:17:32.793888",
     "exception": false,
     "start_time": "2023-03-29T17:17:32.788148",
     "status": "completed"
    },
    "tags": []
   },
   "source": [
    "# Machine Learning Modelling"
   ]
  },
  {
   "cell_type": "markdown",
   "id": "97c20c40",
   "metadata": {
    "papermill": {
     "duration": 0.005494,
     "end_time": "2023-03-29T17:17:32.805016",
     "exception": false,
     "start_time": "2023-03-29T17:17:32.799522",
     "status": "completed"
    },
    "tags": []
   },
   "source": [
    "## K-Means"
   ]
  },
  {
   "cell_type": "code",
   "execution_count": 8,
   "id": "c54221db",
   "metadata": {
    "ExecuteTime": {
     "end_time": "2023-03-29T10:57:06.847931Z",
     "start_time": "2023-03-29T10:57:06.841024Z"
    },
    "execution": {
     "iopub.execute_input": "2023-03-29T17:17:32.818402Z",
     "iopub.status.busy": "2023-03-29T17:17:32.817940Z",
     "iopub.status.idle": "2023-03-29T17:17:32.822999Z",
     "shell.execute_reply": "2023-03-29T17:17:32.821719Z"
    },
    "papermill": {
     "duration": 0.014546,
     "end_time": "2023-03-29T17:17:32.825165",
     "exception": false,
     "start_time": "2023-03-29T17:17:32.810619",
     "status": "completed"
    },
    "tags": []
   },
   "outputs": [],
   "source": [
    "# ks = np.arange(2,31,1)"
   ]
  },
  {
   "cell_type": "code",
   "execution_count": 9,
   "id": "2df789b2",
   "metadata": {
    "ExecuteTime": {
     "end_time": "2023-03-29T14:16:30.482435Z",
     "start_time": "2023-03-29T10:57:21.664030Z"
    },
    "execution": {
     "iopub.execute_input": "2023-03-29T17:17:32.838583Z",
     "iopub.status.busy": "2023-03-29T17:17:32.838141Z",
     "iopub.status.idle": "2023-03-29T17:17:32.843554Z",
     "shell.execute_reply": "2023-03-29T17:17:32.842211Z"
    },
    "papermill": {
     "duration": 0.014975,
     "end_time": "2023-03-29T17:17:32.845967",
     "exception": false,
     "start_time": "2023-03-29T17:17:32.830992",
     "status": "completed"
    },
    "tags": []
   },
   "outputs": [],
   "source": [
    "# k_means_scores = []\n",
    "# for k in ks:\n",
    "#     # Define and fit model\n",
    "#     kmeans_model = KMeans(n_clusters = k, n_init=\"auto\").fit(full_data)\n",
    "    \n",
    "#     # Predict\n",
    "#     kmeans_labels = kmeans_model.predict(full_data)\n",
    "    \n",
    "#     # Model evaluation\n",
    "#     k_means_scores.append(silhouette_score(full_data, kmeans_labels))"
   ]
  },
  {
   "cell_type": "code",
   "execution_count": 10,
   "id": "33ffa076",
   "metadata": {
    "execution": {
     "iopub.execute_input": "2023-03-29T17:17:32.859877Z",
     "iopub.status.busy": "2023-03-29T17:17:32.859481Z",
     "iopub.status.idle": "2023-03-29T17:17:32.864074Z",
     "shell.execute_reply": "2023-03-29T17:17:32.862906Z"
    },
    "papermill": {
     "duration": 0.014145,
     "end_time": "2023-03-29T17:17:32.866200",
     "exception": false,
     "start_time": "2023-03-29T17:17:32.852055",
     "status": "completed"
    },
    "tags": []
   },
   "outputs": [],
   "source": [
    "# print(k_means_scores)"
   ]
  },
  {
   "cell_type": "code",
   "execution_count": 11,
   "id": "a88ca2cd",
   "metadata": {
    "execution": {
     "iopub.execute_input": "2023-03-29T17:17:32.879937Z",
     "iopub.status.busy": "2023-03-29T17:17:32.879459Z",
     "iopub.status.idle": "2023-03-29T17:17:32.884258Z",
     "shell.execute_reply": "2023-03-29T17:17:32.883258Z"
    },
    "papermill": {
     "duration": 0.014316,
     "end_time": "2023-03-29T17:17:32.886439",
     "exception": false,
     "start_time": "2023-03-29T17:17:32.872123",
     "status": "completed"
    },
    "tags": []
   },
   "outputs": [],
   "source": [
    "# pickle.dump(k_means_scores, open('../data/k_means_scores.pkl','wb'))"
   ]
  },
  {
   "cell_type": "code",
   "execution_count": 12,
   "id": "8dc95285",
   "metadata": {
    "ExecuteTime": {
     "end_time": "2023-03-29T17:04:47.276826Z",
     "start_time": "2023-03-29T17:04:28.640588Z"
    },
    "execution": {
     "iopub.execute_input": "2023-03-29T17:17:32.900151Z",
     "iopub.status.busy": "2023-03-29T17:17:32.899680Z",
     "iopub.status.idle": "2023-03-29T17:17:36.349498Z",
     "shell.execute_reply": "2023-03-29T17:17:36.348081Z"
    },
    "papermill": {
     "duration": 3.460072,
     "end_time": "2023-03-29T17:17:36.352340",
     "exception": false,
     "start_time": "2023-03-29T17:17:32.892268",
     "status": "completed"
    },
    "tags": []
   },
   "outputs": [],
   "source": [
    "# Define and fit model\n",
    "kmeans_model = KMeans(n_clusters = 7, n_init=\"auto\").fit(full_data)\n",
    "kmeans_labels = kmeans_model.predict(full_data)\n",
    "pickle.dump(kmeans_labels, open('../data/k_means_scores.pkl','wb'))"
   ]
  },
  {
   "cell_type": "code",
   "execution_count": null,
   "id": "ff604c5a",
   "metadata": {
    "papermill": {
     "duration": 0.005764,
     "end_time": "2023-03-29T17:17:36.363935",
     "exception": false,
     "start_time": "2023-03-29T17:17:36.358171",
     "status": "completed"
    },
    "tags": []
   },
   "outputs": [],
   "source": []
  },
  {
   "cell_type": "code",
   "execution_count": null,
   "id": "d810e331",
   "metadata": {
    "papermill": {
     "duration": 0.006007,
     "end_time": "2023-03-29T17:17:36.376186",
     "exception": false,
     "start_time": "2023-03-29T17:17:36.370179",
     "status": "completed"
    },
    "tags": []
   },
   "outputs": [],
   "source": []
  },
  {
   "cell_type": "code",
   "execution_count": null,
   "id": "752e5a30",
   "metadata": {
    "papermill": {
     "duration": 0.00618,
     "end_time": "2023-03-29T17:17:36.388479",
     "exception": false,
     "start_time": "2023-03-29T17:17:36.382299",
     "status": "completed"
    },
    "tags": []
   },
   "outputs": [],
   "source": []
  },
  {
   "cell_type": "code",
   "execution_count": null,
   "id": "6e1517e5",
   "metadata": {
    "papermill": {
     "duration": 0.005796,
     "end_time": "2023-03-29T17:17:36.400091",
     "exception": false,
     "start_time": "2023-03-29T17:17:36.394295",
     "status": "completed"
    },
    "tags": []
   },
   "outputs": [],
   "source": []
  },
  {
   "cell_type": "code",
   "execution_count": null,
   "id": "e968094e",
   "metadata": {
    "papermill": {
     "duration": 0.005723,
     "end_time": "2023-03-29T17:17:36.411496",
     "exception": false,
     "start_time": "2023-03-29T17:17:36.405773",
     "status": "completed"
    },
    "tags": []
   },
   "outputs": [],
   "source": []
  },
  {
   "cell_type": "code",
   "execution_count": null,
   "id": "925d976f",
   "metadata": {
    "papermill": {
     "duration": 0.00584,
     "end_time": "2023-03-29T17:17:36.423043",
     "exception": false,
     "start_time": "2023-03-29T17:17:36.417203",
     "status": "completed"
    },
    "tags": []
   },
   "outputs": [],
   "source": []
  },
  {
   "cell_type": "code",
   "execution_count": null,
   "id": "fb0cddc4",
   "metadata": {
    "papermill": {
     "duration": 0.005662,
     "end_time": "2023-03-29T17:17:36.434374",
     "exception": false,
     "start_time": "2023-03-29T17:17:36.428712",
     "status": "completed"
    },
    "tags": []
   },
   "outputs": [],
   "source": []
  },
  {
   "cell_type": "code",
   "execution_count": null,
   "id": "f2baa314",
   "metadata": {
    "papermill": {
     "duration": 0.005869,
     "end_time": "2023-03-29T17:17:36.445972",
     "exception": false,
     "start_time": "2023-03-29T17:17:36.440103",
     "status": "completed"
    },
    "tags": []
   },
   "outputs": [],
   "source": []
  },
  {
   "cell_type": "code",
   "execution_count": null,
   "id": "43cc2ea1",
   "metadata": {
    "papermill": {
     "duration": 0.005588,
     "end_time": "2023-03-29T17:17:36.457245",
     "exception": false,
     "start_time": "2023-03-29T17:17:36.451657",
     "status": "completed"
    },
    "tags": []
   },
   "outputs": [],
   "source": []
  },
  {
   "cell_type": "code",
   "execution_count": null,
   "id": "3120fdf2",
   "metadata": {
    "papermill": {
     "duration": 0.005752,
     "end_time": "2023-03-29T17:17:36.468656",
     "exception": false,
     "start_time": "2023-03-29T17:17:36.462904",
     "status": "completed"
    },
    "tags": []
   },
   "outputs": [],
   "source": []
  }
 ],
 "metadata": {
  "kernelspec": {
   "display_name": "Python 3 (ipykernel)",
   "language": "python",
   "name": "python3"
  },
  "language_info": {
   "codemirror_mode": {
    "name": "ipython",
    "version": 3
   },
   "file_extension": ".py",
   "mimetype": "text/x-python",
   "name": "python",
   "nbconvert_exporter": "python",
   "pygments_lexer": "ipython3",
   "version": "3.9.13"
  },
  "papermill": {
   "default_parameters": {},
   "duration": 7.393514,
   "end_time": "2023-03-29T17:17:36.996672",
   "environment_variables": {},
   "exception": null,
   "input_path": "K-Means.ipynb",
   "output_path": "K-means-29-03-2023.ipynb",
   "parameters": {},
   "start_time": "2023-03-29T17:17:29.603158",
   "version": "2.4.0"
  },
  "varInspector": {
   "cols": {
    "lenName": 16,
    "lenType": 16,
    "lenVar": 40
   },
   "kernels_config": {
    "python": {
     "delete_cmd_postfix": "",
     "delete_cmd_prefix": "del ",
     "library": "var_list.py",
     "varRefreshCmd": "print(var_dic_list())"
    },
    "r": {
     "delete_cmd_postfix": ") ",
     "delete_cmd_prefix": "rm(",
     "library": "var_list.r",
     "varRefreshCmd": "cat(var_dic_list()) "
    }
   },
   "types_to_exclude": [
    "module",
    "function",
    "builtin_function_or_method",
    "instance",
    "_Feature"
   ],
   "window_display": false
  }
 },
 "nbformat": 4,
 "nbformat_minor": 5
}